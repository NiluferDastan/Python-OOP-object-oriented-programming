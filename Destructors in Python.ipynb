{
 "cells": [
  {
   "cell_type": "markdown",
   "id": "7e0d0bdb",
   "metadata": {},
   "source": [
    "# Destructors in Python : Python'da yıkıcılar"
   ]
  },
  {
   "cell_type": "code",
   "execution_count": 1,
   "id": "b60d9ce0",
   "metadata": {},
   "outputs": [
    {
     "name": "stdout",
     "output_type": "stream",
     "text": [
      "Employee created.\n",
      "Destructor called, Employee deleted.\n"
     ]
    }
   ],
   "source": [
    "# Python program to illustrate destructor\n",
    "class Employee:\n",
    " \n",
    "    # Initializing\n",
    "    def __init__(self):\n",
    "        print('Employee created.')\n",
    " \n",
    "    # Deleting (Calling destructor)\n",
    "    def __del__(self):\n",
    "        print('Destructor called, Employee deleted.')\n",
    " \n",
    "obj = Employee()\n",
    "del obj"
   ]
  },
  {
   "cell_type": "code",
   "execution_count": 4,
   "id": "60018ba0",
   "metadata": {},
   "outputs": [],
   "source": [
    "# Python program to illustrate destructor\n",
    "  \n",
    "class A:\n",
    "    def __init__(self, bb):\n",
    "        self.b = bb\n",
    "  \n",
    "class B:\n",
    "    def __init__(self):\n",
    "        self.a = A(self)\n",
    "    def __del__(self):\n",
    "        print(\"die\")\n",
    "  \n",
    "def fun():\n",
    "    b = B()\n",
    "  \n",
    "fun()"
   ]
  },
  {
   "cell_type": "code",
   "execution_count": 5,
   "id": "4817fbe9",
   "metadata": {},
   "outputs": [
    {
     "name": "stdout",
     "output_type": "stream",
     "text": [
      "Recursive function initialized with n = 5\n",
      "Running recursive function with n = 5\n",
      "Running recursive function with n = 4\n",
      "Running recursive function with n = 3\n",
      "Running recursive function with n = 2\n",
      "Running recursive function with n = 1\n",
      "Recursive function object destroyed\n"
     ]
    }
   ],
   "source": [
    "class RecursiveFunction:\n",
    "    def __init__(self, n):\n",
    "        self.n = n\n",
    "        print(\"Recursive function initialized with n =\", n)\n",
    " \n",
    "    def run(self, n=None):\n",
    "        if n is None:\n",
    "            n = self.n\n",
    "        if n <= 0:\n",
    "            return\n",
    "        print(\"Running recursive function with n =\", n)\n",
    "        self.run(n-1)\n",
    " \n",
    "    def __del__(self):\n",
    "        print(\"Recursive function object destroyed\")\n",
    " \n",
    "# Create an object of the class\n",
    "obj = RecursiveFunction(5)\n",
    " \n",
    "# Call the recursive function\n",
    "obj.run()\n",
    " \n",
    "# Destroy the object\n",
    "del obj"
   ]
  },
  {
   "cell_type": "code",
   "execution_count": null,
   "id": "570e6b52",
   "metadata": {},
   "outputs": [],
   "source": []
  }
 ],
 "metadata": {
  "kernelspec": {
   "display_name": "Python 3 (ipykernel)",
   "language": "python",
   "name": "python3"
  },
  "language_info": {
   "codemirror_mode": {
    "name": "ipython",
    "version": 3
   },
   "file_extension": ".py",
   "mimetype": "text/x-python",
   "name": "python",
   "nbconvert_exporter": "python",
   "pygments_lexer": "ipython3",
   "version": "3.9.13"
  }
 },
 "nbformat": 4,
 "nbformat_minor": 5
}
