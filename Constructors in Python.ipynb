{
 "cells": [
  {
   "cell_type": "markdown",
   "id": "bc101de3",
   "metadata": {},
   "source": [
    "# Constructors in Python : Python'da Yapıcılar"
   ]
  },
  {
   "cell_type": "raw",
   "id": "7f751cf3",
   "metadata": {},
   "source": [
    "lass GeekforGeeks:\n",
    " \n",
    "    # default constructor\n",
    "    def __init__(self):\n",
    "        self.geek = \"GeekforGeeks\"\n",
    " \n",
    "    # a method for printing data members\n",
    "    def print_Geek(self):\n",
    "        print(self.geek)\n",
    " \n",
    " \n",
    "# creating object of the class\n",
    "obj = GeekforGeeks()\n",
    " \n",
    "# calling the instance method using the object obj\n",
    "obj.print_Geek()"
   ]
  },
  {
   "cell_type": "code",
   "execution_count": 2,
   "id": "46a60ee7",
   "metadata": {},
   "outputs": [
    {
     "name": "stdout",
     "output_type": "stream",
     "text": [
      "First number = 1000\n",
      "Second number = 2000\n",
      "Addition of two numbers = 3000\n",
      "First number = 10\n",
      "Second number = 20\n",
      "Addition of two numbers = 30\n"
     ]
    }
   ],
   "source": [
    "#Example of the parameterized constructor : \n",
    "class Addition:\n",
    "    first = 0\n",
    "    second = 0\n",
    "    answer = 0\n",
    " \n",
    "    # parameterized constructor\n",
    "    def __init__(self, f, s):\n",
    "        self.first = f\n",
    "        self.second = s\n",
    " \n",
    "    def display(self):\n",
    "        print(\"First number = \" + str(self.first))\n",
    "        print(\"Second number = \" + str(self.second))\n",
    "        print(\"Addition of two numbers = \" + str(self.answer))\n",
    " \n",
    "    def calculate(self):\n",
    "        self.answer = self.first + self.second\n",
    " \n",
    " \n",
    "# creating object of the class\n",
    "# this will invoke parameterized constructor\n",
    "obj1 = Addition(1000, 2000)\n",
    " \n",
    "# creating second object of same class\n",
    "obj2 = Addition(10, 20)\n",
    " \n",
    "# perform Addition on obj1\n",
    "obj1.calculate()\n",
    " \n",
    "# perform Addition on obj2\n",
    "obj2.calculate()\n",
    " \n",
    "# display result of obj1\n",
    "obj1.display()\n",
    " \n",
    "# display result of obj2\n",
    "obj2.display()\n"
   ]
  },
  {
   "cell_type": "code",
   "execution_count": 3,
   "id": "8f13607d",
   "metadata": {},
   "outputs": [
    {
     "name": "stdout",
     "output_type": "stream",
     "text": [
      "Default constructor called\n",
      "Method called without a name\n",
      "Parameterized constructor called with name John\n",
      "Method called with name John\n"
     ]
    }
   ],
   "source": [
    "class MyClass:\n",
    "    def __init__(self, name=None):\n",
    "        if name is None:\n",
    "            print(\"Default constructor called\")\n",
    "        else:\n",
    "            self.name = name\n",
    "            print(\"Parameterized constructor called with name\", self.name)\n",
    "     \n",
    "    def method(self):\n",
    "        if hasattr(self, 'name'):\n",
    "            print(\"Method called with name\", self.name)\n",
    "        else:\n",
    "            print(\"Method called without a name\")\n",
    " \n",
    "# Create an object of the class using the default constructor\n",
    "obj1 = MyClass()\n",
    " \n",
    "# Call a method of the class\n",
    "obj1.method()\n",
    " \n",
    "# Create an object of the class using the parameterized constructor\n",
    "obj2 = MyClass(\"John\")\n",
    " \n",
    "# Call a method of the class\n",
    "obj2.method()"
   ]
  },
  {
   "cell_type": "code",
   "execution_count": null,
   "id": "adb1d629",
   "metadata": {},
   "outputs": [],
   "source": []
  }
 ],
 "metadata": {
  "kernelspec": {
   "display_name": "Python 3 (ipykernel)",
   "language": "python",
   "name": "python3"
  },
  "language_info": {
   "codemirror_mode": {
    "name": "ipython",
    "version": 3
   },
   "file_extension": ".py",
   "mimetype": "text/x-python",
   "name": "python",
   "nbconvert_exporter": "python",
   "pygments_lexer": "ipython3",
   "version": "3.9.13"
  }
 },
 "nbformat": 4,
 "nbformat_minor": 5
}
