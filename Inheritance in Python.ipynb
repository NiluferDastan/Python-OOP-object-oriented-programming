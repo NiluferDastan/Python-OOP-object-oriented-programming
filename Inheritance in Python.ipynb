{
 "cells": [
  {
   "cell_type": "markdown",
   "id": "39fa36d7",
   "metadata": {},
   "source": [
    "# Inheritance in Python: Python'da Kalıtım"
   ]
  },
  {
   "cell_type": "markdown",
   "id": "0204834e",
   "metadata": {},
   "source": [
    "One of the core concepts in object-oriented programming (OOP) languages is inheritance. It is a mechanism that allows you to create a hierarchy of classes that share a set of properties and methods by deriving a class from another class. Inheritance is the capability of one class to derive or inherit the properties from another class. "
   ]
  },
  {
   "cell_type": "markdown",
   "id": "c255bf7a",
   "metadata": {},
   "source": [
    "# Creating a Parent Class"
   ]
  },
  {
   "cell_type": "code",
   "execution_count": 1,
   "id": "2f7553e2",
   "metadata": {},
   "outputs": [
    {
     "name": "stdout",
     "output_type": "stream",
     "text": [
      "Satyam 102\n"
     ]
    }
   ],
   "source": [
    "# A Python program to demonstrate inheritance\n",
    "class Person(object):\n",
    "   \n",
    "  # Constructor\n",
    "  def __init__(self, name, id):\n",
    "    self.name = name\n",
    "    self.id = id\n",
    " \n",
    "  # To check if this person is an employee\n",
    "  def Display(self):\n",
    "    print(self.name, self.id)\n",
    " \n",
    " \n",
    "# Driver code\n",
    "emp = Person(\"Satyam\", 102) # An Object of Person\n",
    "emp.Display()"
   ]
  },
  {
   "cell_type": "markdown",
   "id": "04dfb0e0",
   "metadata": {},
   "source": [
    "# Creating a Child Class"
   ]
  },
  {
   "cell_type": "code",
   "execution_count": 4,
   "id": "e61544fa",
   "metadata": {},
   "outputs": [
    {
     "name": "stdout",
     "output_type": "stream",
     "text": [
      "Mayank 103\n",
      "Emp class called\n"
     ]
    }
   ],
   "source": [
    "class Emp(Person):\n",
    "   \n",
    "  def Print(self):\n",
    "    print(\"Emp class called\")\n",
    "     \n",
    "Emp_details = Emp(\"Mayank\", 103)\n",
    " \n",
    "# calling parent class function\n",
    "Emp_details.Display()\n",
    " \n",
    "# Calling child class function\n",
    "Emp_details.Print()"
   ]
  },
  {
   "cell_type": "raw",
   "id": "08c7e00a",
   "metadata": {},
   "source": [
    "Example of Inheritance in Python "
   ]
  },
  {
   "cell_type": "code",
   "execution_count": 5,
   "id": "bd8b9c21",
   "metadata": {},
   "outputs": [
    {
     "name": "stdout",
     "output_type": "stream",
     "text": [
      "Geek1 False\n",
      "Geek2 True\n"
     ]
    }
   ],
   "source": [
    "# A Python program to demonstrate inheritance\n",
    " \n",
    "# Base or Super class. Note object in bracket.\n",
    "# (Generally, object is made ancestor of all classes)\n",
    "# In Python 3.x \"class Person\" is\n",
    "# equivalent to \"class Person(object)\"\n",
    " \n",
    " \n",
    "class Person(object):\n",
    " \n",
    "    # Constructor\n",
    "    def __init__(self, name):\n",
    "        self.name = name\n",
    " \n",
    "    # To get name\n",
    "    def getName(self):\n",
    "        return self.name\n",
    " \n",
    "    # To check if this person is an employee\n",
    "    def isEmployee(self):\n",
    "        return False\n",
    " \n",
    " \n",
    "# Inherited or Subclass (Note Person in bracket)\n",
    "class Employee(Person):\n",
    " \n",
    "    # Here we return true\n",
    "    def isEmployee(self):\n",
    "        return True\n",
    " \n",
    " \n",
    "# Driver code\n",
    "emp = Person(\"Geek1\")  # An Object of Person\n",
    "print(emp.getName(), emp.isEmployee())\n",
    " \n",
    "emp = Employee(\"Geek2\")  # An Object of Employee\n",
    "print(emp.getName(), emp.isEmployee())"
   ]
  },
  {
   "cell_type": "raw",
   "id": "ed3e8702",
   "metadata": {},
   "source": [
    "Example: class subclass_name (superclass_name)"
   ]
  },
  {
   "cell_type": "code",
   "execution_count": 6,
   "id": "60f73290",
   "metadata": {},
   "outputs": [
    {
     "name": "stdout",
     "output_type": "stream",
     "text": [
      "Rahul\n",
      "886012\n"
     ]
    }
   ],
   "source": [
    "# Python code to demonstrate how parent constructors\n",
    "# are called.\n",
    " \n",
    "# parent class\n",
    "class Person(object):\n",
    " \n",
    "    # __init__ is known as the constructor\n",
    "    def __init__(self, name, idnumber):\n",
    "        self.name = name\n",
    "        self.idnumber = idnumber\n",
    " \n",
    "    def display(self):\n",
    "        print(self.name)\n",
    "        print(self.idnumber)\n",
    " \n",
    "# child class\n",
    "class Employee(Person):\n",
    "    def __init__(self, name, idnumber, salary, post):\n",
    "        self.salary = salary\n",
    "        self.post = post\n",
    " \n",
    "        # invoking the __init__ of the parent class\n",
    "        Person.__init__(self, name, idnumber)\n",
    " \n",
    "# creation of an object variable or an instance\n",
    "a = Employee('Rahul', 886012, 200000, \"Intern\")\n",
    " \n",
    "# calling a function of the class Person using its instance\n",
    "a.display()"
   ]
  },
  {
   "cell_type": "markdown",
   "id": "af618680",
   "metadata": {},
   "source": [
    "Python program to demonstrate error if we forget to invoke __init__() of the parent\n",
    "If you forget to invoke the __init__() of the parent class then its instance variables would not be available to the child class. The following code produces an error for the same reason. "
   ]
  },
  {
   "cell_type": "code",
   "execution_count": 7,
   "id": "da0fe706",
   "metadata": {},
   "outputs": [
    {
     "ename": "AttributeError",
     "evalue": "'B' object has no attribute 'name'",
     "output_type": "error",
     "traceback": [
      "\u001b[1;31m---------------------------------------------------------------------------\u001b[0m",
      "\u001b[1;31mAttributeError\u001b[0m                            Traceback (most recent call last)",
      "\u001b[1;32m~\\AppData\\Local\\Temp\\ipykernel_368\\2273929838.py\u001b[0m in \u001b[0;36m<module>\u001b[1;34m\u001b[0m\n\u001b[0;32m      8\u001b[0m \u001b[1;33m\u001b[0m\u001b[0m\n\u001b[0;32m      9\u001b[0m \u001b[0mobject\u001b[0m \u001b[1;33m=\u001b[0m \u001b[0mB\u001b[0m\u001b[1;33m(\u001b[0m\u001b[1;36m23\u001b[0m\u001b[1;33m)\u001b[0m\u001b[1;33m\u001b[0m\u001b[1;33m\u001b[0m\u001b[0m\n\u001b[1;32m---> 10\u001b[1;33m \u001b[0mprint\u001b[0m\u001b[1;33m(\u001b[0m\u001b[0mobject\u001b[0m\u001b[1;33m.\u001b[0m\u001b[0mname\u001b[0m\u001b[1;33m)\u001b[0m\u001b[1;33m\u001b[0m\u001b[1;33m\u001b[0m\u001b[0m\n\u001b[0m",
      "\u001b[1;31mAttributeError\u001b[0m: 'B' object has no attribute 'name'"
     ]
    }
   ],
   "source": [
    "class A:\n",
    "    def __init__(self, n='Rahul'):\n",
    "        self.name = n\n",
    " \n",
    "class B(A):\n",
    "    def __init__(self, roll):\n",
    "        self.roll = roll\n",
    " \n",
    "object = B(23)\n",
    "print(object.name)"
   ]
  },
  {
   "cell_type": "markdown",
   "id": "465ff355",
   "metadata": {},
   "source": [
    "# The super() Function\n"
   ]
  },
  {
   "cell_type": "markdown",
   "id": "c6fce876",
   "metadata": {},
   "source": [
    "The super() function is a built-in function that returns the objects that represent the parent class. It allows to access the parent class’s methods and attributes in the child class."
   ]
  },
  {
   "cell_type": "code",
   "execution_count": 8,
   "id": "b5a9fdbc",
   "metadata": {},
   "outputs": [
    {
     "name": "stdout",
     "output_type": "stream",
     "text": [
      "Rahul 23\n",
      "Mayank 23\n"
     ]
    }
   ],
   "source": [
    "# parent class\n",
    "class Person():\n",
    "  def __init__(self, name, age):\n",
    "    self.name = name\n",
    "    self.age = age\n",
    " \n",
    "  def display(self):\n",
    "    print(self.name, self.age)\n",
    " \n",
    "# child class\n",
    "class Student(Person):\n",
    "  def __init__(self, name, age):\n",
    "    self.sName = name\n",
    "    self.sAge = age\n",
    "    # inheriting the properties of parent class\n",
    "    super().__init__(\"Rahul\", age)\n",
    " \n",
    "  def displayInfo(self):\n",
    "    print(self.sName, self.sAge)\n",
    " \n",
    "obj = Student(\"Mayank\", 23)\n",
    "obj.display()\n",
    "obj.displayInfo()"
   ]
  },
  {
   "cell_type": "markdown",
   "id": "839f9526",
   "metadata": {},
   "source": [
    "# Adding Properties"
   ]
  },
  {
   "cell_type": "markdown",
   "id": "5e64e5b3",
   "metadata": {},
   "source": [
    "One of the features that inheritance provides is inheriting the properties of the parent class as well as adding new properties of our own to the child class. Let us see this with an example:"
   ]
  },
  {
   "cell_type": "code",
   "execution_count": 9,
   "id": "480b0292",
   "metadata": {},
   "outputs": [
    {
     "name": "stdout",
     "output_type": "stream",
     "text": [
      "Rahul 23\n",
      "Mayank 23 16-03-2000\n"
     ]
    }
   ],
   "source": [
    "# parent class\n",
    "class Person():\n",
    "  def __init__(self, name, age):\n",
    "    self.name = name\n",
    "    self.age = age\n",
    " \n",
    "  def display(self):\n",
    "    print(self.name, self.age)\n",
    " \n",
    "# child class\n",
    "class Student(Person):\n",
    "  def __init__(self, name, age, dob):\n",
    "    self.sName = name\n",
    "    self.sAge = age\n",
    "    self.dob = dob\n",
    "    # inheriting the properties of parent class\n",
    "    super().__init__(\"Rahul\", age)\n",
    " \n",
    "  def displayInfo(self):\n",
    "    print(self.sName, self.sAge, self.dob)\n",
    " \n",
    "obj = Student(\"Mayank\", 23, \"16-03-2000\")\n",
    "obj.display()\n",
    "obj.displayInfo()"
   ]
  }
 ],
 "metadata": {
  "kernelspec": {
   "display_name": "Python 3 (ipykernel)",
   "language": "python",
   "name": "python3"
  },
  "language_info": {
   "codemirror_mode": {
    "name": "ipython",
    "version": 3
   },
   "file_extension": ".py",
   "mimetype": "text/x-python",
   "name": "python",
   "nbconvert_exporter": "python",
   "pygments_lexer": "ipython3",
   "version": "3.9.13"
  }
 },
 "nbformat": 4,
 "nbformat_minor": 5
}
