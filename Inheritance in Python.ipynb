{
 "cells": [
  {
   "cell_type": "markdown",
   "id": "169c5235",
   "metadata": {},
   "source": [
    "# Inheritance in Python: Python'da Kalıtım"
   ]
  },
  {
   "cell_type": "markdown",
   "id": "ddc45b9c",
   "metadata": {},
   "source": [
    "One of the core concepts in object-oriented programming (OOP) languages is inheritance. It is a mechanism that allows you to create a hierarchy of classes that share a set of properties and methods by deriving a class from another class. Inheritance is the capability of one class to derive or inherit the properties from another class. "
   ]
  },
  {
   "cell_type": "markdown",
   "id": "d6baebbc",
   "metadata": {},
   "source": [
    "Creating a Parent Class"
   ]
  },
  {
   "cell_type": "code",
   "execution_count": 35,
   "id": "2aeb5bae",
   "metadata": {},
   "outputs": [
    {
     "ename": "TypeError",
     "evalue": "__init__() takes 2 positional arguments but 4 were given",
     "output_type": "error",
     "traceback": [
      "\u001b[1;31m---------------------------------------------------------------------------\u001b[0m",
      "\u001b[1;31mTypeError\u001b[0m                                 Traceback (most recent call last)",
      "\u001b[1;32m~\\AppData\\Local\\Temp\\ipykernel_2440\\121134743.py\u001b[0m in \u001b[0;36m<module>\u001b[1;34m\u001b[0m\n\u001b[0;32m      1\u001b[0m \u001b[1;31m# A Python program to demonstrate inheritance\u001b[0m\u001b[1;33m\u001b[0m\u001b[1;33m\u001b[0m\u001b[0m\n\u001b[1;32m----> 2\u001b[1;33m \u001b[1;32mclass\u001b[0m \u001b[0mPerson\u001b[0m\u001b[1;33m(\u001b[0m\u001b[0mobject\u001b[0m\u001b[1;33m)\u001b[0m\u001b[1;33m:\u001b[0m\u001b[1;33m\u001b[0m\u001b[1;33m\u001b[0m\u001b[0m\n\u001b[0m\u001b[0;32m      3\u001b[0m \u001b[1;33m\u001b[0m\u001b[0m\n\u001b[0;32m      4\u001b[0m   \u001b[1;31m# Constructor\u001b[0m\u001b[1;33m\u001b[0m\u001b[1;33m\u001b[0m\u001b[0m\n\u001b[0;32m      5\u001b[0m   \u001b[1;32mdef\u001b[0m \u001b[0m__init__\u001b[0m\u001b[1;33m(\u001b[0m\u001b[0mself\u001b[0m\u001b[1;33m,\u001b[0m \u001b[0mname\u001b[0m\u001b[1;33m,\u001b[0m \u001b[0mid\u001b[0m\u001b[1;33m)\u001b[0m\u001b[1;33m:\u001b[0m\u001b[1;33m\u001b[0m\u001b[1;33m\u001b[0m\u001b[0m\n",
      "\u001b[1;31mTypeError\u001b[0m: __init__() takes 2 positional arguments but 4 were given"
     ]
    }
   ],
   "source": [
    "# A Python program to demonstrate inheritance\n",
    "class Person(object):\n",
    "   \n",
    "  # Constructor\n",
    "  def __init__(self, name, id):\n",
    "    self.name = name\n",
    "    self.id = id\n",
    " \n",
    "  # To check if this person is an employee\n",
    "  def Display(self):\n",
    "    print(self.name, self.id)\n",
    " \n",
    " \n",
    "# Driver code\n",
    "emp = Person(\"Satyam\", 102) # An Object of Person\n",
    "emp.Display()"
   ]
  },
  {
   "cell_type": "markdown",
   "id": "c94b3373",
   "metadata": {},
   "source": [
    "Creating a Child Class"
   ]
  },
  {
   "cell_type": "code",
   "execution_count": 19,
   "id": "1407ace0",
   "metadata": {},
   "outputs": [
    {
     "ename": "AttributeError",
     "evalue": "'Emp' object has no attribute 'Display'",
     "output_type": "error",
     "traceback": [
      "\u001b[1;31m---------------------------------------------------------------------------\u001b[0m",
      "\u001b[1;31mAttributeError\u001b[0m                            Traceback (most recent call last)",
      "\u001b[1;32m~\\AppData\\Local\\Temp\\ipykernel_2440\\1352977135.py\u001b[0m in \u001b[0;36m<module>\u001b[1;34m\u001b[0m\n\u001b[0;32m      7\u001b[0m \u001b[1;33m\u001b[0m\u001b[0m\n\u001b[0;32m      8\u001b[0m \u001b[1;31m# calling parent class function\u001b[0m\u001b[1;33m\u001b[0m\u001b[1;33m\u001b[0m\u001b[0m\n\u001b[1;32m----> 9\u001b[1;33m \u001b[0mEmp_details\u001b[0m\u001b[1;33m.\u001b[0m\u001b[0mDisplay\u001b[0m\u001b[1;33m(\u001b[0m\u001b[1;33m)\u001b[0m\u001b[1;33m\u001b[0m\u001b[1;33m\u001b[0m\u001b[0m\n\u001b[0m\u001b[0;32m     10\u001b[0m \u001b[1;33m\u001b[0m\u001b[0m\n\u001b[0;32m     11\u001b[0m \u001b[1;31m# Calling child class function\u001b[0m\u001b[1;33m\u001b[0m\u001b[1;33m\u001b[0m\u001b[0m\n",
      "\u001b[1;31mAttributeError\u001b[0m: 'Emp' object has no attribute 'Display'"
     ]
    }
   ],
   "source": [
    "class Emp(Person):\n",
    "   \n",
    "  def Print(self):\n",
    "    print(\"Emp class called\")\n",
    "     \n",
    "Emp_details = Emp(\"Mayank\", 103)\n",
    " \n",
    "# calling parent class function\n",
    "Emp_details.Display()\n",
    " \n",
    "# Calling child class function\n",
    "Emp_details.Print()"
   ]
  },
  {
   "cell_type": "markdown",
   "id": "085861b6",
   "metadata": {},
   "source": [
    "Example of Inheritance in Python \n"
   ]
  },
  {
   "cell_type": "code",
   "execution_count": 20,
   "id": "3c0009ee",
   "metadata": {},
   "outputs": [
    {
     "ename": "TypeError",
     "evalue": "__init__() takes 2 positional arguments but 4 were given",
     "output_type": "error",
     "traceback": [
      "\u001b[1;31m---------------------------------------------------------------------------\u001b[0m",
      "\u001b[1;31mTypeError\u001b[0m                                 Traceback (most recent call last)",
      "\u001b[1;32m~\\AppData\\Local\\Temp\\ipykernel_2440\\2193829777.py\u001b[0m in \u001b[0;36m<module>\u001b[1;34m\u001b[0m\n\u001b[0;32m      7\u001b[0m \u001b[1;33m\u001b[0m\u001b[0m\n\u001b[0;32m      8\u001b[0m \u001b[1;33m\u001b[0m\u001b[0m\n\u001b[1;32m----> 9\u001b[1;33m \u001b[1;32mclass\u001b[0m \u001b[0mPerson\u001b[0m\u001b[1;33m(\u001b[0m\u001b[0mobject\u001b[0m\u001b[1;33m)\u001b[0m\u001b[1;33m:\u001b[0m\u001b[1;33m\u001b[0m\u001b[1;33m\u001b[0m\u001b[0m\n\u001b[0m\u001b[0;32m     10\u001b[0m \u001b[1;33m\u001b[0m\u001b[0m\n\u001b[0;32m     11\u001b[0m     \u001b[1;31m# Constructor\u001b[0m\u001b[1;33m\u001b[0m\u001b[1;33m\u001b[0m\u001b[0m\n",
      "\u001b[1;31mTypeError\u001b[0m: __init__() takes 2 positional arguments but 4 were given"
     ]
    }
   ],
   "source": [
    "# A Python program to demonstrate inheritance\n",
    " \n",
    "# Base or Super class. Note object in bracket.\n",
    "# (Generally, object is made ancestor of all classes)\n",
    "# In Python 3.x \"class Person\" is\n",
    "# equivalent to \"class Person(object)\"\n",
    " \n",
    " \n",
    "class Person(object):\n",
    " \n",
    "    # Constructor\n",
    "    def __init__(self, name):\n",
    "        self.name = name\n",
    " \n",
    "    # To get name\n",
    "    def getName(self):\n",
    "        return self.name\n",
    " \n",
    "    # To check if this person is an employee\n",
    "    def isEmployee(self):\n",
    "        return False\n",
    " \n",
    " \n",
    "# Inherited or Subclass (Note Person in bracket)\n",
    "class Employee(Person):\n",
    " \n",
    "    # Here we return true\n",
    "    def isEmployee(self):\n",
    "        return True\n",
    " \n",
    " \n",
    "# Driver code\n",
    "emp = Person(\"Geek1\")  # An Object of Person\n",
    "print(emp.getName(), emp.isEmployee())\n",
    " \n",
    "emp = Employee(\"Geek2\")  # An Object of Employee\n",
    "print(emp.getName(), emp.isEmployee())"
   ]
  },
  {
   "cell_type": "markdown",
   "id": "e7e0a985",
   "metadata": {},
   "source": [
    "Example: class subclass_name (superclass_name)"
   ]
  },
  {
   "cell_type": "code",
   "execution_count": 21,
   "id": "3a324dd9",
   "metadata": {},
   "outputs": [
    {
     "ename": "TypeError",
     "evalue": "__init__() takes 2 positional arguments but 4 were given",
     "output_type": "error",
     "traceback": [
      "\u001b[1;31m---------------------------------------------------------------------------\u001b[0m",
      "\u001b[1;31mTypeError\u001b[0m                                 Traceback (most recent call last)",
      "\u001b[1;32m~\\AppData\\Local\\Temp\\ipykernel_2440\\1547440350.py\u001b[0m in \u001b[0;36m<module>\u001b[1;34m\u001b[0m\n\u001b[0;32m      3\u001b[0m \u001b[1;33m\u001b[0m\u001b[0m\n\u001b[0;32m      4\u001b[0m \u001b[1;31m# parent class\u001b[0m\u001b[1;33m\u001b[0m\u001b[1;33m\u001b[0m\u001b[0m\n\u001b[1;32m----> 5\u001b[1;33m \u001b[1;32mclass\u001b[0m \u001b[0mPerson\u001b[0m\u001b[1;33m(\u001b[0m\u001b[0mobject\u001b[0m\u001b[1;33m)\u001b[0m\u001b[1;33m:\u001b[0m\u001b[1;33m\u001b[0m\u001b[1;33m\u001b[0m\u001b[0m\n\u001b[0m\u001b[0;32m      6\u001b[0m \u001b[1;33m\u001b[0m\u001b[0m\n\u001b[0;32m      7\u001b[0m     \u001b[1;31m# __init__ is known as the constructor\u001b[0m\u001b[1;33m\u001b[0m\u001b[1;33m\u001b[0m\u001b[0m\n",
      "\u001b[1;31mTypeError\u001b[0m: __init__() takes 2 positional arguments but 4 were given"
     ]
    }
   ],
   "source": [
    "# Python code to demonstrate how parent constructors\n",
    "# are called.\n",
    " \n",
    "# parent class\n",
    "class Person(object):\n",
    " \n",
    "    # __init__ is known as the constructor\n",
    "    def __init__(self, name, idnumber):\n",
    "        self.name = name\n",
    "        self.idnumber = idnumber\n",
    " \n",
    "    def display(self):\n",
    "        print(self.name)\n",
    "        print(self.idnumber)\n",
    " \n",
    "# child class\n",
    "class Employee(Person):\n",
    "    def __init__(self, name, idnumber, salary, post):\n",
    "        self.salary = salary\n",
    "        self.post = post\n",
    " \n",
    "        # invoking the __init__ of the parent class\n",
    "        Person.__init__(self, name, idnumber)\n",
    " \n",
    "# creation of an object variable or an instance\n",
    "a = Employee('Rahul', 886012, 200000, \"Intern\")\n",
    " \n",
    "# calling a function of the class Person using its instance\n",
    "a.display()"
   ]
  },
  {
   "cell_type": "markdown",
   "id": "c19d5e59",
   "metadata": {},
   "source": [
    "Python program to demonstrate error if we forget to invoke __init__() of the parent\n",
    "If you forget to invoke the __init__() of the parent class then its instance variables would not be available to the child class. The following code produces an error for the same reason. "
   ]
  },
  {
   "cell_type": "code",
   "execution_count": 22,
   "id": "641d64ab",
   "metadata": {},
   "outputs": [
    {
     "ename": "AttributeError",
     "evalue": "'B' object has no attribute 'name'",
     "output_type": "error",
     "traceback": [
      "\u001b[1;31m---------------------------------------------------------------------------\u001b[0m",
      "\u001b[1;31mAttributeError\u001b[0m                            Traceback (most recent call last)",
      "\u001b[1;32m~\\AppData\\Local\\Temp\\ipykernel_2440\\2273929838.py\u001b[0m in \u001b[0;36m<module>\u001b[1;34m\u001b[0m\n\u001b[0;32m      8\u001b[0m \u001b[1;33m\u001b[0m\u001b[0m\n\u001b[0;32m      9\u001b[0m \u001b[0mobject\u001b[0m \u001b[1;33m=\u001b[0m \u001b[0mB\u001b[0m\u001b[1;33m(\u001b[0m\u001b[1;36m23\u001b[0m\u001b[1;33m)\u001b[0m\u001b[1;33m\u001b[0m\u001b[1;33m\u001b[0m\u001b[0m\n\u001b[1;32m---> 10\u001b[1;33m \u001b[0mprint\u001b[0m\u001b[1;33m(\u001b[0m\u001b[0mobject\u001b[0m\u001b[1;33m.\u001b[0m\u001b[0mname\u001b[0m\u001b[1;33m)\u001b[0m\u001b[1;33m\u001b[0m\u001b[1;33m\u001b[0m\u001b[0m\n\u001b[0m",
      "\u001b[1;31mAttributeError\u001b[0m: 'B' object has no attribute 'name'"
     ]
    }
   ],
   "source": [
    "class A:\n",
    "    def __init__(self, n='Rahul'):\n",
    "        self.name = n\n",
    " \n",
    "class B(A):\n",
    "    def __init__(self, roll):\n",
    "        self.roll = roll\n",
    " \n",
    "object = B(23)\n",
    "print(object.name)"
   ]
  },
  {
   "cell_type": "markdown",
   "id": "8252769c",
   "metadata": {},
   "source": [
    "# The super() Function\n"
   ]
  },
  {
   "cell_type": "markdown",
   "id": "6c0d78cb",
   "metadata": {},
   "source": [
    "The super() function is a built-in function that returns the objects that represent the parent class. It allows to access the parent class’s methods and attributes in the child class."
   ]
  },
  {
   "cell_type": "code",
   "execution_count": 23,
   "id": "1abb0984",
   "metadata": {},
   "outputs": [
    {
     "name": "stdout",
     "output_type": "stream",
     "text": [
      "Rahul 23\n",
      "Mayank 23\n"
     ]
    }
   ],
   "source": [
    "# parent class\n",
    "class Person():\n",
    "  def __init__(self, name, age):\n",
    "    self.name = name\n",
    "    self.age = age\n",
    " \n",
    "  def display(self):\n",
    "    print(self.name, self.age)\n",
    " \n",
    "# child class\n",
    "class Student(Person):\n",
    "  def __init__(self, name, age):\n",
    "    self.sName = name\n",
    "    self.sAge = age\n",
    "    # inheriting the properties of parent class\n",
    "    super().__init__(\"Rahul\", age)\n",
    " \n",
    "  def displayInfo(self):\n",
    "    print(self.sName, self.sAge)\n",
    " \n",
    "obj = Student(\"Mayank\", 23)\n",
    "obj.display()\n",
    "obj.displayInfo()"
   ]
  },
  {
   "cell_type": "markdown",
   "id": "d6b9c727",
   "metadata": {},
   "source": [
    "# Adding Properties\n"
   ]
  },
  {
   "cell_type": "markdown",
   "id": "d567792d",
   "metadata": {},
   "source": [
    "One of the features that inheritance provides is inheriting the properties of the parent class as well as adding new properties of our own to the child class. Let us see this with an example:"
   ]
  },
  {
   "cell_type": "code",
   "execution_count": 24,
   "id": "7a9d2a35",
   "metadata": {},
   "outputs": [
    {
     "name": "stdout",
     "output_type": "stream",
     "text": [
      "Rahul 23\n",
      "Mayank 23 16-03-2000\n"
     ]
    }
   ],
   "source": [
    "# parent class\n",
    "class Person():\n",
    "  def __init__(self, name, age):\n",
    "    self.name = name\n",
    "    self.age = age\n",
    " \n",
    "  def display(self):\n",
    "    print(self.name, self.age)\n",
    " \n",
    "# child class\n",
    "class Student(Person):\n",
    "  def __init__(self, name, age, dob):\n",
    "    self.sName = name\n",
    "    self.sAge = age\n",
    "    self.dob = dob\n",
    "    # inheriting the properties of parent class\n",
    "    super().__init__(\"Rahul\", age)\n",
    " \n",
    "  def displayInfo(self):\n",
    "    print(self.sName, self.sAge, self.dob)\n",
    " \n",
    "obj = Student(\"Mayank\", 23, \"16-03-2000\")\n",
    "obj.display()\n",
    "obj.displayInfo()"
   ]
  },
  {
   "cell_type": "markdown",
   "id": "5869ac69",
   "metadata": {},
   "source": [
    "# Different types of Python Inheritance\n"
   ]
  },
  {
   "cell_type": "markdown",
   "id": "3a335a26",
   "metadata": {},
   "source": [
    "There are 5 different types of inheritance in Python. They are as follows:\n",
    "\n",
    "Single inheritance: When a child class inherits from only one parent class, it is called single inheritance. We saw an example above.\n",
    "Multiple inheritances: When a child class inherits from multiple parent classes, it is called multiple inheritances. \n",
    "\n",
    "Unlike Java, python shows multiple inheritances."
   ]
  },
  {
   "cell_type": "code",
   "execution_count": 25,
   "id": "120317ae",
   "metadata": {},
   "outputs": [
    {
     "ename": "TypeError",
     "evalue": "__init__() takes 2 positional arguments but 4 were given",
     "output_type": "error",
     "traceback": [
      "\u001b[1;31m---------------------------------------------------------------------------\u001b[0m",
      "\u001b[1;31mTypeError\u001b[0m                                 Traceback (most recent call last)",
      "\u001b[1;32m~\\AppData\\Local\\Temp\\ipykernel_2440\\1626629841.py\u001b[0m in \u001b[0;36m<module>\u001b[1;34m\u001b[0m\n\u001b[0;32m      2\u001b[0m \u001b[1;31m# inheritance\u001b[0m\u001b[1;33m\u001b[0m\u001b[1;33m\u001b[0m\u001b[0m\n\u001b[0;32m      3\u001b[0m \u001b[1;33m\u001b[0m\u001b[0m\n\u001b[1;32m----> 4\u001b[1;33m \u001b[1;32mclass\u001b[0m \u001b[0mBase1\u001b[0m\u001b[1;33m(\u001b[0m\u001b[0mobject\u001b[0m\u001b[1;33m)\u001b[0m\u001b[1;33m:\u001b[0m\u001b[1;33m\u001b[0m\u001b[1;33m\u001b[0m\u001b[0m\n\u001b[0m\u001b[0;32m      5\u001b[0m     \u001b[1;32mdef\u001b[0m \u001b[0m__init__\u001b[0m\u001b[1;33m(\u001b[0m\u001b[0mself\u001b[0m\u001b[1;33m)\u001b[0m\u001b[1;33m:\u001b[0m\u001b[1;33m\u001b[0m\u001b[1;33m\u001b[0m\u001b[0m\n\u001b[0;32m      6\u001b[0m         \u001b[0mself\u001b[0m\u001b[1;33m.\u001b[0m\u001b[0mstr1\u001b[0m \u001b[1;33m=\u001b[0m \u001b[1;34m\"Geek1\"\u001b[0m\u001b[1;33m\u001b[0m\u001b[1;33m\u001b[0m\u001b[0m\n",
      "\u001b[1;31mTypeError\u001b[0m: __init__() takes 2 positional arguments but 4 were given"
     ]
    }
   ],
   "source": [
    "# Python example to show the working of multiple\n",
    "# inheritance\n",
    " \n",
    "class Base1(object):\n",
    "    def __init__(self):\n",
    "        self.str1 = \"Geek1\"\n",
    "        print(\"Base1\")\n",
    " \n",
    " \n",
    "class Base2(object):\n",
    "    def __init__(self):\n",
    "        self.str2 = \"Geek2\"\n",
    "        print(\"Base2\")\n",
    " \n",
    " \n",
    "class Derived(Base1, Base2):\n",
    "    def __init__(self):\n",
    "        Base1__init__(self)\n",
    "        Base2__init__(self)\n",
    "        print(\"Derived\")\n",
    " \n",
    "    def printStrs(self):\n",
    "        print(self.str1, self.str2)\n",
    " \n",
    " \n",
    "ob = Derived()\n",
    "ob.printStrs()"
   ]
  },
  {
   "cell_type": "code",
   "execution_count": 26,
   "id": "c8a0c84e",
   "metadata": {},
   "outputs": [
    {
     "ename": "TypeError",
     "evalue": "__init__() takes 2 positional arguments but 4 were given",
     "output_type": "error",
     "traceback": [
      "\u001b[1;31m---------------------------------------------------------------------------\u001b[0m",
      "\u001b[1;31mTypeError\u001b[0m                                 Traceback (most recent call last)",
      "\u001b[1;32m~\\AppData\\Local\\Temp\\ipykernel_2440\\2914918453.py\u001b[0m in \u001b[0;36m<module>\u001b[1;34m\u001b[0m\n\u001b[0;32m      6\u001b[0m \u001b[1;31m# equivalent to \"class Person(object)\"\u001b[0m\u001b[1;33m\u001b[0m\u001b[1;33m\u001b[0m\u001b[0m\n\u001b[0;32m      7\u001b[0m \u001b[1;33m\u001b[0m\u001b[0m\n\u001b[1;32m----> 8\u001b[1;33m \u001b[1;32mclass\u001b[0m \u001b[0mBase\u001b[0m\u001b[1;33m(\u001b[0m\u001b[0mobject\u001b[0m\u001b[1;33m)\u001b[0m\u001b[1;33m:\u001b[0m\u001b[1;33m\u001b[0m\u001b[1;33m\u001b[0m\u001b[0m\n\u001b[0m\u001b[0;32m      9\u001b[0m \u001b[1;33m\u001b[0m\u001b[0m\n\u001b[0;32m     10\u001b[0m     \u001b[1;31m# Constructor\u001b[0m\u001b[1;33m\u001b[0m\u001b[1;33m\u001b[0m\u001b[0m\n",
      "\u001b[1;31mTypeError\u001b[0m: __init__() takes 2 positional arguments but 4 were given"
     ]
    }
   ],
   "source": [
    "# A Python program to demonstrate inheritance\n",
    " \n",
    "# Base or Super class. Note object in bracket.\n",
    "# (Generally, object is made ancestor of all classes)\n",
    "# In Python 3.x \"class Person\" is\n",
    "# equivalent to \"class Person(object)\"\n",
    " \n",
    "class Base(object):\n",
    " \n",
    "    # Constructor\n",
    "    def __init__(self, name):\n",
    "        self.name = name\n",
    " \n",
    "    # To get name\n",
    "    def getName(self):\n",
    "        return self.name\n",
    " \n",
    " \n",
    "# Inherited or Sub class (Note Person in bracket)\n",
    "class Child(Base):\n",
    " \n",
    "    # Constructor\n",
    "    def __init__(self, name, age):\n",
    "        Base.__init__(self, name)\n",
    "        self.age = age\n",
    " \n",
    "    # To get name\n",
    "    def getAge(self):\n",
    "        return self.age\n",
    " \n",
    "# Inherited or Sub class (Note Person in bracket)\n",
    " \n",
    " \n",
    "class GrandChild(Child):\n",
    " \n",
    "    # Constructor\n",
    "    def __init__(self, name, age, address):\n",
    "        Child.__init__(self, name, age)\n",
    "        self.address = address\n",
    " \n",
    "    # To get address\n",
    "    def getAddress(self):\n",
    "        return self.address\n",
    " \n",
    " \n",
    "# Driver code\n",
    "g = GrandChild(\"Geek1\", 23, \"Noida\")\n",
    "print(g.getName(), g.getAge(), g.getAddress())"
   ]
  },
  {
   "cell_type": "markdown",
   "id": "6dd083e8",
   "metadata": {},
   "source": [
    "Hierarchical inheritance More than one derived class can be created from a single base.\n",
    "\n",
    "Hybrid inheritance: This form combines more than one form of inheritance. Basically, it is a blend of more than one type of inheritance."
   ]
  },
  {
   "cell_type": "code",
   "execution_count": 28,
   "id": "e770458e",
   "metadata": {},
   "outputs": [
    {
     "ename": "SyntaxError",
     "evalue": "invalid syntax (2180067254.py, line 1)",
     "output_type": "error",
     "traceback": [
      "\u001b[1;36m  File \u001b[1;32m\"C:\\Users\\pc\\AppData\\Local\\Temp\\ipykernel_2440\\2180067254.py\"\u001b[1;36m, line \u001b[1;32m1\u001b[0m\n\u001b[1;33m    Private members of the parent class\u001b[0m\n\u001b[1;37m            ^\u001b[0m\n\u001b[1;31mSyntaxError\u001b[0m\u001b[1;31m:\u001b[0m invalid syntax\n"
     ]
    }
   ],
   "source": [
    "Private members of the parent class \n"
   ]
  },
  {
   "cell_type": "code",
   "execution_count": 29,
   "id": "bd0bbc71",
   "metadata": {},
   "outputs": [
    {
     "ename": "TypeError",
     "evalue": "__init__() takes 2 positional arguments but 4 were given",
     "output_type": "error",
     "traceback": [
      "\u001b[1;31m---------------------------------------------------------------------------\u001b[0m",
      "\u001b[1;31mTypeError\u001b[0m                                 Traceback (most recent call last)",
      "\u001b[1;32m~\\AppData\\Local\\Temp\\ipykernel_2440\\290164635.py\u001b[0m in \u001b[0;36m<module>\u001b[1;34m\u001b[0m\n\u001b[0;32m      2\u001b[0m \u001b[1;31m# of the parent class\u001b[0m\u001b[1;33m\u001b[0m\u001b[1;33m\u001b[0m\u001b[0m\n\u001b[0;32m      3\u001b[0m \u001b[1;33m\u001b[0m\u001b[0m\n\u001b[1;32m----> 4\u001b[1;33m \u001b[1;32mclass\u001b[0m \u001b[0mC\u001b[0m\u001b[1;33m(\u001b[0m\u001b[0mobject\u001b[0m\u001b[1;33m)\u001b[0m\u001b[1;33m:\u001b[0m\u001b[1;33m\u001b[0m\u001b[1;33m\u001b[0m\u001b[0m\n\u001b[0m\u001b[0;32m      5\u001b[0m     \u001b[1;32mdef\u001b[0m \u001b[0m__init__\u001b[0m\u001b[1;33m(\u001b[0m\u001b[0mself\u001b[0m\u001b[1;33m)\u001b[0m\u001b[1;33m:\u001b[0m\u001b[1;33m\u001b[0m\u001b[1;33m\u001b[0m\u001b[0m\n\u001b[0;32m      6\u001b[0m         \u001b[0mself\u001b[0m\u001b[1;33m.\u001b[0m\u001b[0mc\u001b[0m \u001b[1;33m=\u001b[0m \u001b[1;36m21\u001b[0m\u001b[1;33m\u001b[0m\u001b[1;33m\u001b[0m\u001b[0m\n",
      "\u001b[1;31mTypeError\u001b[0m: __init__() takes 2 positional arguments but 4 were given"
     ]
    }
   ],
   "source": [
    "# Python program to demonstrate private members\n",
    "# of the parent class\n",
    " \n",
    "class C(object):\n",
    "    def __init__(self):\n",
    "        self.c = 21\n",
    " \n",
    "        # d is private instance variable\n",
    "        self.__d = 42\n",
    " \n",
    " \n",
    "class D(C):\n",
    "    def __init__(self):\n",
    "        self.e = 84\n",
    "        C.__init__(self)\n",
    " \n",
    "object1 = D()\n",
    " \n",
    "# produces an error as d is private instance variable\n",
    "print(object1.c)\n",
    "print(object1.__d)"
   ]
  },
  {
   "cell_type": "code",
   "execution_count": null,
   "id": "a8c7cfd6",
   "metadata": {},
   "outputs": [],
   "source": []
  }
 ],
 "metadata": {
  "kernelspec": {
   "display_name": "Python 3 (ipykernel)",
   "language": "python",
   "name": "python3"
  },
  "language_info": {
   "codemirror_mode": {
    "name": "ipython",
    "version": 3
   },
   "file_extension": ".py",
   "mimetype": "text/x-python",
   "name": "python",
   "nbconvert_exporter": "python",
   "pygments_lexer": "ipython3",
   "version": "3.9.13"
  }
 },
 "nbformat": 4,
 "nbformat_minor": 5
}
